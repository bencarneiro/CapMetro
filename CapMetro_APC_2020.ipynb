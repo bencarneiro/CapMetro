{
 "cells": [
  {
   "cell_type": "markdown",
   "metadata": {},
   "source": [
    "# Covid-19 Transit Analysis -  Austin, TX\n",
    "Mapping Ridership Per Stop\n",
    "\n",
    "CapMetro Automatic Passenger Count (APC) Data - January 2020 to May 2020"
   ]
  },
  {
   "cell_type": "markdown",
   "metadata": {},
   "source": [
    "## Setup"
   ]
  },
  {
   "cell_type": "code",
   "execution_count": 5,
   "metadata": {},
   "outputs": [],
   "source": [
    "import pandas as pd, geopandas as gpd, numpy as np\n",
    "from shapely.geometry import Point\n",
    "import matplotlib.pyplot as plt\n",
    "import datetime"
   ]
  },
  {
   "cell_type": "code",
   "execution_count": 6,
   "metadata": {},
   "outputs": [],
   "source": [
    "## Read in all our files- We will end up combining analysis of the APC data with the Geometries of the stops\n",
    "apc = pd.read_csv(r'C:\\Users\\benca\\Documents\\new_jupyter\\CapMetro_APC__RAW__-_January_2020.csv')\n",
    "service_area = gpd.read_file(r'C:\\Users\\benca\\Documents\\new_jupyter\\Capital_Metro_Shapefiles_-_JANUARY_2020 (1)\\Service_Area.shp')\n",
    "stops = gpd.read_file(r'C:\\Users\\benca\\Documents\\new_jupyter\\Capital_Metro_Shapefiles_-_JANUARY_2020 (1)\\stops.shp')\n",
    "\n",
    "## Create a list of unique stop IDs from our geometries - stops we know we can map\n",
    "## the shapefiles happen to already be unique\n",
    "stop_ids = stops['STOP_ID'].unique()\n",
    "\n",
    "## Creates a list of Bus stops logged in the APC data that aren't found in our stops geometries\n",
    "## These are likely discontinued bus stops\n",
    "a = apc[np.logical_not(apc['bs_id'].isin(stop_ids))]\n",
    "discontinued_stops = a[a['bs_id']>0]['bs_id'].unique()\n"
   ]
  },
  {
   "cell_type": "code",
   "execution_count": 7,
   "metadata": {},
   "outputs": [],
   "source": [
    "## Our source APC data has coordinates, but right now they are stored as decimal numbers\n",
    "## Convert decimals into Shapely Point Objects and let geopandas convert into a geodataframe\n",
    "apc1 = apc\n",
    "apc1['coordinates'] = list(zip(apc1.veh_long, apc1.veh_lat))\n",
    "apc1.coordinates = apc1.coordinates.apply(Point)\n",
    "apc_geo = gpd.GeoDataFrame(apc1, geometry = 'coordinates')\n",
    "\n",
    "## Filtered is all APC data where the Stop Number is included in the stops geometries, \n",
    "## plus removing partial transit days at beginning and end of dataset\n",
    "## Stopless data is the roughly 1 million data points without a bus stop (10-15% of all data)\n",
    "stopless_data = apc_geo[apc_geo['bs_id'] == 0]\n",
    "filtered = apc_geo[(apc['bs_id'].isin(stop_ids)) & (apc_geo['current_route_id'] > 0) & (apc_geo['transit_date_time'] > 20200105000000) & (apc_geo['transit_date_time'] < 20200530000000)]"
   ]
  },
  {
   "cell_type": "markdown",
   "metadata": {},
   "source": [
    "Fortunately, all the data with stop numbers- seem to have a high degree of accuracy with the geographic tracking"
   ]
  },
  {
   "cell_type": "code",
   "execution_count": 9,
   "metadata": {},
   "outputs": [
    {
     "data": {
      "text/plain": [
       "<AxesSubplot:>"
      ]
     },
     "execution_count": 9,
     "metadata": {},
     "output_type": "execute_result"
    },
    {
     "data": {
      "image/png": "[encoded data removed]",
      "text/plain": [
       "<Figure size 432x288 with 1 Axes>"
      ]
     },
     "metadata": {
      "needs_background": "light"
     },
     "output_type": "display_data"
    }
   ],
   "source": [
    "filtered.plot()"
   ]
  },
  {
   "cell_type": "code",
   "execution_count": 153,
   "metadata": {},
   "outputs": [
    {
     "data": {
      "text/plain": [
       "<AxesSubplot:>"
      ]
     },
     "execution_count": 153,
     "metadata": {},
     "output_type": "execute_result"
    },
    {
     "data": {
      "image/png": "[encoded data removed]",
      "text/plain": [
       "<Figure size 432x288 with 1 Axes>"
      ]
     },
     "metadata": {
      "needs_background": "light"
     },
     "output_type": "display_data"
    }
   ],
   "source": [
    "filtered[filtered['current_route_id'] == 325].plot()"
   ]
  },
  {
   "cell_type": "markdown",
   "metadata": {},
   "source": [
    "The stopless data varies somewhat"
   ]
  },
  {
   "cell_type": "code",
   "execution_count": 145,
   "metadata": {},
   "outputs": [
    {
     "data": {
      "text/plain": [
       "<AxesSubplot:>"
      ]
     },
     "execution_count": 145,
     "metadata": {},
     "output_type": "execute_result"
    },
    {
     "data": {
      "image/png": "[encoded data removed]",
      "text/plain": [
       "<Figure size 432x288 with 1 Axes>"
      ]
     },
     "metadata": {
      "needs_background": "light"
     },
     "output_type": "display_data"
    }
   ],
   "source": [
    "stopless_data.plot()"
   ]
  },
  {
   "cell_type": "markdown",
   "metadata": {},
   "source": [
    "DISCLAIMER: CapMetro claims that this data won't line up with reported ridership- but when spot checked, all examples fell w/in +/- 5% MOE\n",
    "\n",
    "Ridership on the 315 - Ben White is reported as 13.9K in April 2020, and below is the same information calculated from our filtered APC data"
   ]
  },
  {
   "cell_type": "code",
   "execution_count": 12,
   "metadata": {
    "scrolled": true
   },
   "outputs": [
    {
     "data": {
      "text/plain": [
       "13840"
      ]
     },
     "execution_count": 12,
     "metadata": {},
     "output_type": "execute_result"
    }
   ],
   "source": [
    "sum(filtered[(filtered['current_route_id'] == 315) & (filtered['transit_date_time'] > 20200331000000) & (filtered['transit_date_time'] < 20200501000000)]['ons'])"
   ]
  },
  {
   "cell_type": "markdown",
   "metadata": {},
   "source": [
    "7 - Duval / Dove Springs in the month of February is reported at 188.1K Riders"
   ]
  },
  {
   "cell_type": "code",
   "execution_count": 13,
   "metadata": {},
   "outputs": [
    {
     "data": {
      "text/plain": [
       "185199"
      ]
     },
     "execution_count": 13,
     "metadata": {},
     "output_type": "execute_result"
    }
   ],
   "source": [
    "sum(filtered[(filtered['current_route_id'] == 7)&(filtered['transit_date_time']>=20200201000000)&(filtered['transit_date_time']<20200301000000)]['ons'])"
   ]
  },
  {
   "cell_type": "markdown",
   "metadata": {},
   "source": [
    "Our numbers are under by 1.5%"
   ]
  },
  {
   "cell_type": "markdown",
   "metadata": {},
   "source": [
    "## Having found no glaring inaccuracies- I moved a subset of the filtered data into MySQL"
   ]
  },
  {
   "cell_type": "code",
   "execution_count": 18,
   "metadata": {
    "scrolled": true
   },
   "outputs": [
    {
     "data": {
      "text/html": [
       "<div>\n",
       "<style scoped>\n",
       "    .dataframe tbody tr th:only-of-type {\n",
       "        vertical-align: middle;\n",
       "    }\n",
       "\n",
       "    .dataframe tbody tr th {\n",
       "        vertical-align: top;\n",
       "    }\n",
       "\n",
       "    .dataframe thead th {\n",
       "        text-align: right;\n",
       "    }\n",
       "</style>\n",
       "<table border=\"1\" class=\"dataframe\">\n",
       "  <thead>\n",
       "    <tr style=\"text-align: right;\">\n",
       "      <th></th>\n",
       "      <th>vehicle_id</th>\n",
       "      <th>operator_id</th>\n",
       "      <th>bs_id</th>\n",
       "      <th>current_route_id</th>\n",
       "      <th>direction_code_id</th>\n",
       "      <th>ons</th>\n",
       "      <th>offs</th>\n",
       "      <th>max_load</th>\n",
       "      <th>transit_date_time</th>\n",
       "      <th>open_date_time</th>\n",
       "      <th>close_date_time</th>\n",
       "    </tr>\n",
       "  </thead>\n",
       "  <tbody>\n",
       "    <tr>\n",
       "      <th>0</th>\n",
       "      <td>2608</td>\n",
       "      <td>28520</td>\n",
       "      <td>1253</td>\n",
       "      <td>10</td>\n",
       "      <td>4</td>\n",
       "      <td>2</td>\n",
       "      <td>0</td>\n",
       "      <td>13</td>\n",
       "      <td>20200106000000</td>\n",
       "      <td>20200106150827</td>\n",
       "      <td>20200106150843</td>\n",
       "    </tr>\n",
       "    <tr>\n",
       "      <th>1</th>\n",
       "      <td>2366</td>\n",
       "      <td>24750</td>\n",
       "      <td>6334</td>\n",
       "      <td>318</td>\n",
       "      <td>8</td>\n",
       "      <td>4</td>\n",
       "      <td>0</td>\n",
       "      <td>7</td>\n",
       "      <td>20200106000000</td>\n",
       "      <td>20200106175058</td>\n",
       "      <td>20200106175202</td>\n",
       "    </tr>\n",
       "    <tr>\n",
       "      <th>2</th>\n",
       "      <td>2252</td>\n",
       "      <td>37080</td>\n",
       "      <td>5949</td>\n",
       "      <td>4</td>\n",
       "      <td>7</td>\n",
       "      <td>1</td>\n",
       "      <td>1</td>\n",
       "      <td>3</td>\n",
       "      <td>20200106000000</td>\n",
       "      <td>20200106071323</td>\n",
       "      <td>20200106071337</td>\n",
       "    </tr>\n",
       "    <tr>\n",
       "      <th>3</th>\n",
       "      <td>2721</td>\n",
       "      <td>600822</td>\n",
       "      <td>1143</td>\n",
       "      <td>325</td>\n",
       "      <td>4</td>\n",
       "      <td>2</td>\n",
       "      <td>2</td>\n",
       "      <td>7</td>\n",
       "      <td>20200106000000</td>\n",
       "      <td>20200106174122</td>\n",
       "      <td>20200106174140</td>\n",
       "    </tr>\n",
       "    <tr>\n",
       "      <th>4</th>\n",
       "      <td>2619</td>\n",
       "      <td>35560</td>\n",
       "      <td>5554</td>\n",
       "      <td>20</td>\n",
       "      <td>6</td>\n",
       "      <td>2</td>\n",
       "      <td>2</td>\n",
       "      <td>15</td>\n",
       "      <td>20200106000000</td>\n",
       "      <td>20200106193259</td>\n",
       "      <td>20200106193315</td>\n",
       "    </tr>\n",
       "    <tr>\n",
       "      <th>...</th>\n",
       "      <td>...</td>\n",
       "      <td>...</td>\n",
       "      <td>...</td>\n",
       "      <td>...</td>\n",
       "      <td>...</td>\n",
       "      <td>...</td>\n",
       "      <td>...</td>\n",
       "      <td>...</td>\n",
       "      <td>...</td>\n",
       "      <td>...</td>\n",
       "      <td>...</td>\n",
       "    </tr>\n",
       "    <tr>\n",
       "      <th>6647594</th>\n",
       "      <td>5002</td>\n",
       "      <td>600758</td>\n",
       "      <td>5873</td>\n",
       "      <td>801</td>\n",
       "      <td>4</td>\n",
       "      <td>2</td>\n",
       "      <td>0</td>\n",
       "      <td>2</td>\n",
       "      <td>20200405000000</td>\n",
       "      <td>20200405100645</td>\n",
       "      <td>20200405102138</td>\n",
       "    </tr>\n",
       "    <tr>\n",
       "      <th>6647595</th>\n",
       "      <td>2056</td>\n",
       "      <td>33030</td>\n",
       "      <td>1366</td>\n",
       "      <td>300</td>\n",
       "      <td>4</td>\n",
       "      <td>1</td>\n",
       "      <td>1</td>\n",
       "      <td>10</td>\n",
       "      <td>20200405000000</td>\n",
       "      <td>20200405105901</td>\n",
       "      <td>20200405105916</td>\n",
       "    </tr>\n",
       "    <tr>\n",
       "      <th>6647596</th>\n",
       "      <td>2853</td>\n",
       "      <td>25560</td>\n",
       "      <td>599</td>\n",
       "      <td>1</td>\n",
       "      <td>4</td>\n",
       "      <td>4</td>\n",
       "      <td>0</td>\n",
       "      <td>13</td>\n",
       "      <td>20200405000000</td>\n",
       "      <td>20200405212329</td>\n",
       "      <td>20200405212427</td>\n",
       "    </tr>\n",
       "    <tr>\n",
       "      <th>6647597</th>\n",
       "      <td>2710</td>\n",
       "      <td>27180</td>\n",
       "      <td>5226</td>\n",
       "      <td>350</td>\n",
       "      <td>6</td>\n",
       "      <td>1</td>\n",
       "      <td>0</td>\n",
       "      <td>1</td>\n",
       "      <td>20200405000000</td>\n",
       "      <td>20200405183937</td>\n",
       "      <td>20200405190326</td>\n",
       "    </tr>\n",
       "    <tr>\n",
       "      <th>6647598</th>\n",
       "      <td>2417</td>\n",
       "      <td>36410</td>\n",
       "      <td>5837</td>\n",
       "      <td>318</td>\n",
       "      <td>8</td>\n",
       "      <td>0</td>\n",
       "      <td>1</td>\n",
       "      <td>0</td>\n",
       "      <td>20200405000000</td>\n",
       "      <td>20200405174612</td>\n",
       "      <td>20200405174628</td>\n",
       "    </tr>\n",
       "  </tbody>\n",
       "</table>\n",
       "<p>6647599 rows × 11 columns</p>\n",
       "</div>"
      ],
      "text/plain": [
       "         vehicle_id  operator_id  bs_id  current_route_id  direction_code_id  \\\n",
       "0              2608        28520   1253                10                  4   \n",
       "1              2366        24750   6334               318                  8   \n",
       "2              2252        37080   5949                 4                  7   \n",
       "3              2721       600822   1143               325                  4   \n",
       "4              2619        35560   5554                20                  6   \n",
       "...             ...          ...    ...               ...                ...   \n",
       "6647594        5002       600758   5873               801                  4   \n",
       "6647595        2056        33030   1366               300                  4   \n",
       "6647596        2853        25560    599                 1                  4   \n",
       "6647597        2710        27180   5226               350                  6   \n",
       "6647598        2417        36410   5837               318                  8   \n",
       "\n",
       "         ons  offs  max_load  transit_date_time  open_date_time  \\\n",
       "0          2     0        13     20200106000000  20200106150827   \n",
       "1          4     0         7     20200106000000  20200106175058   \n",
       "2          1     1         3     20200106000000  20200106071323   \n",
       "3          2     2         7     20200106000000  20200106174122   \n",
       "4          2     2        15     20200106000000  20200106193259   \n",
       "...      ...   ...       ...                ...             ...   \n",
       "6647594    2     0         2     20200405000000  20200405100645   \n",
       "6647595    1     1        10     20200405000000  20200405105901   \n",
       "6647596    4     0        13     20200405000000  20200405212329   \n",
       "6647597    1     0         1     20200405000000  20200405183937   \n",
       "6647598    0     1         0     20200405000000  20200405174612   \n",
       "\n",
       "         close_date_time  \n",
       "0         20200106150843  \n",
       "1         20200106175202  \n",
       "2         20200106071337  \n",
       "3         20200106174140  \n",
       "4         20200106193315  \n",
       "...                  ...  \n",
       "6647594   20200405102138  \n",
       "6647595   20200405105916  \n",
       "6647596   20200405212427  \n",
       "6647597   20200405190326  \n",
       "6647598   20200405174628  \n",
       "\n",
       "[6647599 rows x 11 columns]"
      ]
     },
     "execution_count": 18,
     "metadata": {},
     "output_type": "execute_result"
    }
   ],
   "source": [
    "to_mysql = filtered[['vehicle_id','operator_id','bs_id','current_route_id','direction_code_id','ons','offs','max_load','transit_date_time','open_date_time','close_date_time']].reset_index(drop=True)\n",
    "to_mysql.to_csv('filtered_apc.csv')"
   ]
  },
  {
   "cell_type": "code",
   "execution_count": 10,
   "metadata": {
    "collapsed": true
   },
   "outputs": [
    {
     "name": "stderr",
     "output_type": "stream",
     "text": [
      "UsageError: Cell magic `%%sql` not found.\n"
     ]
    }
   ],
   "source": [
    "%%sql\n",
    "\n",
    "CREATE TABLE apc_2020(\n",
    "    unique_id BIGINT,\n",
    "    vehicle_id INT,\n",
    "    operator_id INT,\n",
    "    bs_id INT,\n",
    "    current_route_id INT,\n",
    "    direction_code_id INT,\n",
    "    ons INT,\n",
    "    offs INT,\n",
    "    max_load INT,\n",
    "    transit_date_time BIGINT,\n",
    "    open_date_time BIGINT,\n",
    "    close_date_time BIGINT,\n",
    "    PRIMARY KEY (unique_id)\n",
    ")\n",
    "\n",
    "LOAD DATA INFILE 'filtered_apc.csv'\n",
    "INTO TABLE apc_2020\n",
    "FIELDS TERMINATED BY ','\n",
    "LINES TERMINATED BY '\\r\\n'\n",
    "IGNORE 1 ROWS\n",
    ";\n",
    "\n",
    "## This creates a table where instances of boardings have been combined by stop, day, and bus route\n",
    "## IE a row now tells you how many people got on what bus, at what stop, and on what day-\n",
    "## Where the old dataset told you every single time the bus doors opened\n",
    "\n",
    "SELECT transit_date_time, bs_id, current_route_id, sum(ons) as ons, sum(offs) as offs\n",
    "FROM apc_2020\n",
    "GROUP BY bs_id, current_route_id, transit_date_time\n",
    "LIMIT 0,1000000;\n",
    "\n",
    "## I wrote the results of the prior query into Notebook++ and saved as a .csv\n",
    "## And I took that CSV into Tableau\n",
    "## Where I linked the stop shapes with the APC analysis"
   ]
  },
  {
   "cell_type": "code",
   "execution_count": 3,
   "metadata": {},
   "outputs": [
    {
     "data": {
      "text/html": [
       "<div class='tableauPlaceholder' id='viz1611937386032' style='position: relative'><noscript><a href='#'><img alt=' ' src='https:&#47;&#47;public.tableau.com&#47;static&#47;images&#47;ri&#47;ridershipperstop&#47;Dashboard1&#47;1_rss.png' style='border: none' /></a></noscript><object class='tableauViz'  style='display:none;'><param name='host_url' value='https%3A%2F%2Fpublic.tableau.com%2F' /> <param name='embed_code_version' value='3' /> <param name='site_root' value='' /><param name='name' value='ridershipperstop&#47;Dashboard1' /><param name='tabs' value='no' /><param name='toolbar' value='yes' /><param name='static_image' value='https:&#47;&#47;public.tableau.com&#47;static&#47;images&#47;ri&#47;ridershipperstop&#47;Dashboard1&#47;1.png' /> <param name='animate_transition' value='yes' /><param name='display_static_image' value='yes' /><param name='display_spinner' value='yes' /><param name='display_overlay' value='yes' /><param name='display_count' value='yes' /><param name='language' value='en' /></object></div>                <script type='text/javascript'>                    var divElement = document.getElementById('viz1611937386032');                    var vizElement = divElement.getElementsByTagName('object')[0];                    vizElement.style.minWidth='420px';vizElement.style.maxWidth='1020px';vizElement.style.width='100%';vizElement.style.minHeight='587px';vizElement.style.maxHeight='687px';vizElement.style.height=(divElement.offsetWidth*0.75)+'px';                    var scriptElement = document.createElement('script');                    scriptElement.src = 'https://public.tableau.com/javascripts/api/viz_v1.js';                    vizElement.parentNode.insertBefore(scriptElement, vizElement);                </script>\n"
      ],
      "text/plain": [
       "<IPython.core.display.HTML object>"
      ]
     },
     "metadata": {},
     "output_type": "display_data"
    }
   ],
   "source": [
    "%%html\n",
    "<div class='tableauPlaceholder' id='viz1611937386032' style='position: relative'><noscript><a href='#'><img alt=' ' src='https:&#47;&#47;public.tableau.com&#47;static&#47;images&#47;ri&#47;ridershipperstop&#47;Dashboard1&#47;1_rss.png' style='border: none' /></a></noscript><object class='tableauViz'  style='display:none;'><param name='host_url' value='https%3A%2F%2Fpublic.tableau.com%2F' /> <param name='embed_code_version' value='3' /> <param name='site_root' value='' /><param name='name' value='ridershipperstop&#47;Dashboard1' /><param name='tabs' value='no' /><param name='toolbar' value='yes' /><param name='static_image' value='https:&#47;&#47;public.tableau.com&#47;static&#47;images&#47;ri&#47;ridershipperstop&#47;Dashboard1&#47;1.png' /> <param name='animate_transition' value='yes' /><param name='display_static_image' value='yes' /><param name='display_spinner' value='yes' /><param name='display_overlay' value='yes' /><param name='display_count' value='yes' /><param name='language' value='en' /></object></div>                <script type='text/javascript'>                    var divElement = document.getElementById('viz1611937386032');                    var vizElement = divElement.getElementsByTagName('object')[0];                    vizElement.style.minWidth='420px';vizElement.style.maxWidth='1020px';vizElement.style.width='100%';vizElement.style.minHeight='587px';vizElement.style.maxHeight='687px';vizElement.style.height=(divElement.offsetWidth*0.75)+'px';                    var scriptElement = document.createElement('script');                    scriptElement.src = 'https://public.tableau.com/javascripts/api/viz_v1.js';                    vizElement.parentNode.insertBefore(scriptElement, vizElement);                </script>"
   ]
  },
  {
   "cell_type": "code",
   "execution_count": null,
   "metadata": {},
   "outputs": [],
   "source": []
  }
 ],
 "metadata": {
  "kernelspec": {
   "display_name": "Python 3",
   "language": "python",
   "name": "python3"
  },
  "language_info": {
   "codemirror_mode": {
    "name": "ipython",
    "version": 3
   },
   "file_extension": ".py",
   "mimetype": "text/x-python",
   "name": "python",
   "nbconvert_exporter": "python",
   "pygments_lexer": "ipython3",
   "version": "3.8.5"
  }
 },
 "nbformat": 4,
 "nbformat_minor": 4
}
